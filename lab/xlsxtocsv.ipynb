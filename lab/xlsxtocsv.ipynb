{
 "cells": [
  {
   "cell_type": "markdown",
   "metadata": {},
   "source": [
    "#### .xlsx内のテキストを抽出  .csvファイル出力"
   ]
  },
  {
   "cell_type": "code",
   "execution_count": null,
   "metadata": {},
   "outputs": [],
   "source": [
    "import openpyxl\n",
    "import glob\n",
    "import re\n",
    "import os\n",
    "import pandas as pd\n",
    "import numpy as np\n",
    "\n",
    "\n",
    "xlsx_files= []\n",
    "\n",
    "target_path = r'C:\\Users\\you-m\\jupyter\\*.xlsx'\n",
    "\n",
    "# target_pathで指定したフォルダ内のファイルのパスを格納\n",
    "files = glob.glob(target_path, recursive=True)\n",
    "\n",
    "# このうち「.xlsx」がつくものだけを抽出し、docx_filesに格納\n",
    "for file in files:\n",
    "    if '.xlsx' in file:\n",
    "        xlsx_files.append(file)\n",
    "\n",
    "# 「xlsx_files」のリストに格納されたパスを表示\n",
    "for xlsx_file in xlsx_files:\n",
    "    print(xlsx_file)\n",
    "\n",
    "# 「xlsx_files」のリストに格納されたパスの数を表示\n",
    "len(xlsx_files)\n",
    "\n",
    "ix1 = 1\n",
    "for xlsx_file in xlsx_files:\n",
    "   \n",
    "    # 抽出したテキストデータを格納する空リスト\n",
    "    extracted_texts = []\n",
    "    \n",
    "    # ファイル読み込み\n",
    "    file = pd.ExcelFile(xlsx_file)\n",
    "    \n",
    "    # シート名取得\n",
    "    sheet_names = file.sheet_names\n",
    "    \n",
    "    # エクセルからテキストを取得\n",
    "    for sheet in file.sheet_names:\n",
    "        extracted_texts.append(file.parse(sheet))\n",
    "    \n",
    "    print(extracted_texts)\n",
    "    df = pd.DataFrame(data = extracted_texts)\n",
    "    df.to_csv(\"xlsx_test\" + str(ix1) + \".csv\",encoding='utf_8_sig')\n",
    "    ix1 = ix1 + 1\n"
   ]
  }
 ],
 "metadata": {
  "kernelspec": {
   "display_name": "Python 3",
   "language": "python",
   "name": "python3"
  },
  "language_info": {
   "codemirror_mode": {
    "name": "ipython",
    "version": 3
   },
   "file_extension": ".py",
   "mimetype": "text/x-python",
   "name": "python",
   "nbconvert_exporter": "python",
   "pygments_lexer": "ipython3",
   "version": "3.8.8"
  }
 },
 "nbformat": 4,
 "nbformat_minor": 2
}
