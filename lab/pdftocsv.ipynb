{
 "cells": [
  {
   "cell_type": "markdown",
   "metadata": {},
   "source": [
    "#### .pdf内のテキストを抽出  .csvファイル出力"
   ]
  },
  {
   "cell_type": "code",
   "execution_count": 3,
   "metadata": {},
   "outputs": [],
   "source": [
    "from pdfminer.pdfinterp import PDFResourceManager, PDFPageInterpreter\n",
    "from pdfminer.converter import TextConverter\n",
    "from pdfminer.layout import LAParams\n",
    "from pdfminer.pdfpage import PDFPage\n",
    "\n",
    "input_path = '20510127seika.pdf'\n",
    "output_path = 'result.csv'\n",
    "\n",
    "manager = PDFResourceManager()\n",
    "\n",
    "with open(output_path, \"wb\") as output:\n",
    "    with open(input_path, 'rb') as input:\n",
    "        with TextConverter(manager, output, codec='utf-8', laparams=LAParams()) as conv:\n",
    "            interpreter = PDFPageInterpreter(manager, conv)\n",
    "            for page in PDFPage.get_pages(input):\n",
    "                interpreter.process_page(page)"
   ]
  },
  {
   "cell_type": "code",
   "execution_count": null,
   "metadata": {},
   "outputs": [],
   "source": []
  }
 ],
 "metadata": {
  "kernelspec": {
   "display_name": "Python 3",
   "language": "python",
   "name": "python3"
  },
  "language_info": {
   "codemirror_mode": {
    "name": "ipython",
    "version": 3
   },
   "file_extension": ".py",
   "mimetype": "text/x-python",
   "name": "python",
   "nbconvert_exporter": "python",
   "pygments_lexer": "ipython3",
   "version": "3.8.8"
  }
 },
 "nbformat": 4,
 "nbformat_minor": 2
}
