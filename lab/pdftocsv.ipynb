{
 "cells": [
  {
   "cell_type": "markdown",
   "metadata": {},
   "source": [
    "#### .pdf内のテキストを抽出  .csvファイル出力"
   ]
  },
  {
   "cell_type": "code",
   "execution_count": null,
   "metadata": {},
   "outputs": [],
   "source": [
    "from pdfminer.pdfparser import PDFParser\n",
    "from pdfminer.pdfdocument import PDFDocument\n",
    "from pdfminer.pdfpage import PDFPage\n",
    "from pdfminer.pdfpage import PDFTextExtractionNotAllowed\n",
    "from pdfminer.pdfinterp import PDFResourceManager\n",
    "from pdfminer.pdfinterp import PDFPageInterpreter\n",
    "from pdfminer.converter import PDFPageAggregator\n",
    "from pdfminer.layout import (\n",
    "    LAParams,\n",
    "    LTContainer,\n",
    "    LTTextLine,\n",
    ")\n",
    "\n",
    "import glob\n",
    "import re\n",
    "import os\n",
    "import pandas as pd\n",
    "\n",
    "pdf_files= []\n",
    "\n",
    "target_path = r'C:\\Users\\you-m\\jupyter\\*.pdf'\n",
    "\n",
    "# target_pathで指定したフォルダ内のファイルのパスを格納\n",
    "files = glob.glob(target_path, recursive=True)\n",
    "\n",
    "# このうち「.pdf」がつくものだけを抽出し、pdf_filesに格納\n",
    "for file in files:\n",
    "    if '.pdf' in file:\n",
    "        pdf_files.append(file)\n",
    "\n",
    "# 「pdf_files」のリストに格納されたパスを表示\n",
    "for pdf_file in pdf_files:\n",
    "    print(pdf_file)\n",
    "\n",
    "# 「pdf_files」のリストに格納されたパスの数を表示\n",
    "len(pdf_files)\n",
    "\n",
    "ix = 1\n",
    "for pdf_file in pdf_files:\n",
    "   \n",
    "    # 抽出したテキストデータを格納する空リスト\n",
    "    extracted_texts = []\n",
    "    \n",
    "    fp = open(pdf_file, 'rb')\n",
    "    parser = PDFParser(fp)\n",
    "    document = PDFDocument(parser)\n",
    "    \n",
    "    if not document.is_extractable:\n",
    "        raise #PDFTextExtractionNotAllowed\n",
    "    rsrcmgr = PDFResourceManager()\n",
    "    laparams = LAParams()\n",
    "    device = PDFPageAggregator(rsrcmgr, laparams=laparams)\n",
    "\n",
    "    interpreter = PDFPageInterpreter(rsrcmgr, device)\n",
    "    #pages = list(document.get_pages())\n",
    "    \n",
    "    for page in PDFPage.create_pages(document):\n",
    "        interpreter.process_page(page)\n",
    "        layout = device.get_result()\n",
    "        for l in layout:\n",
    "            if isinstance(l, LTTextBoxHorizontal):\n",
    "                text = l.get_text()\n",
    "                extracted_texts.append(text)\n",
    "    \n",
    "    \n",
    "    print(extracted_texts)\n",
    "    df = pd.DataFrame(data = extracted_texts)\n",
    "    df.to_csv(\"pdf_test\" + str(ix) + \".csv\",encoding='utf_8_sig')\n",
    "    ix = ix + 1\n"
   ]
  }
 ],
 "metadata": {
  "kernelspec": {
   "display_name": "Python 3",
   "language": "python",
   "name": "python3"
  },
  "language_info": {
   "codemirror_mode": {
    "name": "ipython",
    "version": 3
   },
   "file_extension": ".py",
   "mimetype": "text/x-python",
   "name": "python",
   "nbconvert_exporter": "python",
   "pygments_lexer": "ipython3",
   "version": "3.8.8"
  }
 },
 "nbformat": 4,
 "nbformat_minor": 2
}
