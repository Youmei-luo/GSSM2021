{
 "cells": [
  {
   "cell_type": "markdown",
   "metadata": {},
   "source": [
    "#### .docx内のテキストを抽出  .csvファイル出力"
   ]
  },
  {
   "cell_type": "code",
   "execution_count": 12,
   "metadata": {},
   "outputs": [
    {
     "name": "stdout",
     "output_type": "stream",
     "text": [
      "C:\\Users\\you-m\\jupyter\\invitation - コピー.docx\n",
      "C:\\Users\\you-m\\jupyter\\invitation.docx\n",
      "['佐藤様', 'お世話になっております。', 'パーティーへご招待いたします。', '2019年4月1日', '午後7時から', '新宿駅徒歩3分', '\\n', '鈴木様', 'お世話になっております。', 'パーティーへご招待いたします。', '2019年4月1日', '午後7時から', '新宿駅徒歩3分', '\\n', '田中様', 'お世話になっております。', 'パーティーへご招待いたします。', '2019年4月1日', '午後7時から', '新宿駅徒歩3分', '\\n', '山本様', 'お世話になっております。', 'パーティーへご招待いたします。', '2019年4月1日', '午後7時から', '新宿駅徒歩3分', '\\n', '中村様', 'お世話になっております。', 'パーティーへご招待いたします。', '2019年4月1日', '午後7時から', '新宿駅徒歩3分', '\\n']\n",
      "['佐藤様', 'お世話になっております。', 'パーティーへご招待いたします。', '2019年4月1日', '午後7時から', '新宿駅徒歩3分', '\\n', '鈴木様', 'お世話になっております。', 'パーティーへご招待いたします。', '2019年4月1日', '午後7時から', '新宿駅徒歩3分', '\\n', '田中様', 'お世話になっております。', 'パーティーへご招待いたします。', '2019年4月1日', '午後7時から', '新宿駅徒歩3分', '\\n', '山本様', 'お世話になっております。', 'パーティーへご招待いたします。', '2019年4月1日', '午後7時から', '新宿駅徒歩3分', '\\n', '中村様', 'お世話になっております。', 'パーティーへご招待いたします。', '2019年4月1日', '午後7時から', '新宿駅徒歩3分', '\\n']\n"
     ]
    }
   ],
   "source": [
    "import docx\n",
    "import glob\n",
    "import re\n",
    "import os\n",
    "import pandas as pd\n",
    "\n",
    "docx_files= []\n",
    "\n",
    "target_path = r'C:\\Users\\you-m\\jupyter\\*.docx'\n",
    "\n",
    "# target_pathで指定したフォルダ内のファイルのパスを格納\n",
    "files = glob.glob(target_path, recursive=True)\n",
    "\n",
    "# このうち「.docx」がつくものだけを抽出し、docx_filesに格納\n",
    "for file in files:\n",
    "    if '.docx' in file:\n",
    "        docx_files.append(file)\n",
    "\n",
    "# 「docx_files」のリストに格納されたパスを表示\n",
    "for docx_file in docx_files:\n",
    "    print(docx_file)\n",
    "\n",
    "# 「docx_files」のリストに格納されたパスの数を表示\n",
    "len(docx_files)\n",
    "\n",
    "# 抽出したテキストデータを格納する空リスト\n",
    "extracted_texts = []\n",
    "\n",
    "# テキストデータが抽出されたdocxファイルのパスを格納する空リスト\n",
    "pathes = []\n",
    "\n",
    "ix = 1\n",
    "for docx_file in docx_files:\n",
    "   \n",
    "    # 抽出したテキストデータを格納する空リスト\n",
    "    extracted_texts = []\n",
    "    \n",
    "    doc= docx.Document(docx_file)\n",
    "    \n",
    "    # ワードから文書を取得\n",
    "    for par in doc.paragraphs:\n",
    "        extracted_texts.append(par.text)\n",
    "    \n",
    "    \n",
    "    print(extracted_texts)\n",
    "    df = pd.DataFrame(data = extracted_texts)\n",
    "    df.to_csv(\"docx_test\" + str(ix) + \".csv\",encoding='utf_8_sig')\n",
    "    ix = ix + 1\n"
   ]
  },
  {
   "cell_type": "code",
   "execution_count": null,
   "metadata": {},
   "outputs": [],
   "source": []
  }
 ],
 "metadata": {
  "kernelspec": {
   "display_name": "Python 3",
   "language": "python",
   "name": "python3"
  },
  "language_info": {
   "codemirror_mode": {
    "name": "ipython",
    "version": 3
   },
   "file_extension": ".py",
   "mimetype": "text/x-python",
   "name": "python",
   "nbconvert_exporter": "python",
   "pygments_lexer": "ipython3",
   "version": "3.8.8"
  }
 },
 "nbformat": 4,
 "nbformat_minor": 2
}
