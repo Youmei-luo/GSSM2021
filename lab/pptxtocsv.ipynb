{
 "cells": [
  {
   "cell_type": "markdown",
   "id": "28c81507",
   "metadata": {},
   "source": [
    "#### フォルダ内にある.pptxファイルを抽出"
   ]
  },
  {
   "cell_type": "code",
   "execution_count": null,
   "id": "9c734e9f",
   "metadata": {},
   "outputs": [],
   "source": [
    "import pptx\n",
    "from pptx.exc import PackageNotFoundError\n",
    "import glob\n",
    "import re\n",
    "import os\n",
    "\n",
    "\n",
    "#temprate_pptx = r\"C:\\Users\\you-m\\test1.pptx\n",
    "#prs = pptx.Presentation(temprate_pptx)\n",
    "\n",
    "pptx_files= []\n",
    "\n",
    "target_path = r'C:\\Users\\you-m\\jupyter\\*.pptx'\n",
    "\n",
    "# target_pathで指定したフォルダ内のファイルのパスを格納\n",
    "files = glob.glob(target_path, recursive=True)\n",
    "\n",
    "# このうち「.pptx」がつくものだけを抽出し、pptx_filesに格納\n",
    "for file in files:\n",
    "    if '.pptx' in file:\n",
    "        pptx_files.append(file)\n",
    "\n",
    "# 「pptx_files」のリストに格納されたパスを表示\n",
    "for pptx_file in pptx_files:\n",
    "    print(pptx_file)\n",
    "\n",
    "# 「pptx_files」のリストに格納されたパスの数を表示\n",
    "len(pptx_files)\n"
   ]
  },
  {
   "cell_type": "markdown",
   "id": "6465de8c",
   "metadata": {},
   "source": [
    "#### .pptx内のテキストを抽出 .csvファイル出力"
   ]
  },
  {
   "cell_type": "code",
   "execution_count": null,
   "id": "025b5fca",
   "metadata": {},
   "outputs": [],
   "source": [
    "import pandas as pd\n",
    "import numpy as np\n",
    "\n",
    "# 抽出したテキストデータを格納する空リスト\n",
    "extracted_texts = []\n",
    "\n",
    "# テキストデータが抽出されたpptxファイルのパスを格納する空リスト\n",
    "pathes = []\n",
    "\n",
    "# テキストデータが抽出されたスライドのページを格納する空リスト\n",
    "slide_num = []\n",
    "\n",
    "ix = 1\n",
    "for pptx_file in pptx_files:\n",
    "    # パスワードがかかったpptxファイルへの対応\n",
    "    try:\n",
    "        prs = pptx.Presentation(pptx_file)\n",
    "        \n",
    "    except PackageNotFoundError:\n",
    "        print(pptx_file)\n",
    "        print('→パスワードがかかっているため、開けませんでした。')\n",
    "        print(' '*40)\n",
    "\n",
    "    # 抽出したテキストデータを格納する空リスト\n",
    "    extracted_texts = []\n",
    "\n",
    "    # スライドごとにテキストデータを抽出する\n",
    "    for i, sld in enumerate(prs.slides, start=1):\n",
    "        for shape in sld.shapes:\n",
    "            if shape.has_text_frame: # shapeに含まれるテキストデータを抽出\n",
    "                pathes.append(pptx_file)\n",
    "                slide_num.append(i)\n",
    "                extracted_texts.append(shape.text)\n",
    "\n",
    "            if shape.has_table: # tableに含まれるテキストデータを抽出\n",
    "                for cell in shape.table.iter_cells():\n",
    "                    pathes.append(pptx_file)\n",
    "                    slide_num.append(i)\n",
    "                    extracted_texts.append(cell.text)\n",
    "    \n",
    "    \n",
    "    print(extracted_texts)\n",
    "    df = pd.DataFrame(data = extracted_texts)\n",
    "    df.to_csv(\"pandas_test\" + str(ix) + \".csv\",encoding='utf_8_sig')\n",
    "    ix = ix + 1"
   ]
  }
 ],
 "metadata": {
  "kernelspec": {
   "display_name": "Python 3",
   "language": "python",
   "name": "python3"
  },
  "language_info": {
   "codemirror_mode": {
    "name": "ipython",
    "version": 3
   },
   "file_extension": ".py",
   "mimetype": "text/x-python",
   "name": "python",
   "nbconvert_exporter": "python",
   "pygments_lexer": "ipython3",
   "version": "3.8.8"
  }
 },
 "nbformat": 4,
 "nbformat_minor": 5
}
